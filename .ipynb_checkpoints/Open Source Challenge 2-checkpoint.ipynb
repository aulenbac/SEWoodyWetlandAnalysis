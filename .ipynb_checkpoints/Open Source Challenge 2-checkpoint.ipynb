{
 "cells": [
  {
   "cell_type": "markdown",
   "metadata": {},
   "source": [
    "# Change raster grid cell values\n",
    "With arcpy, this is done in a number of ways including Reclassify(http://desktop.arcgis.com/en/arcmap/10.3/tools/spatial-analyst-toolbox/reclassify.htm) and Con(http://desktop.arcgis.com/en/arcmap/10.3/tools/spatial-analyst-toolbox/con-.htm)."
   ]
  },
  {
   "cell_type": "markdown",
   "metadata": {},
   "source": [
    "## Environments"
   ]
  },
  {
   "cell_type": "code",
   "execution_count": 5,
   "metadata": {
    "collapsed": true
   },
   "outputs": [],
   "source": [
    "import arcpy\n",
    "arcpy.ResetEnvironments()\n",
    "arcpy.CheckOutExtension(\"Spatial\")\n",
    "arcpy.env.overwriteOutput=True\n",
    "arcpy.env.extent = \"MAXOF\"\n",
    "arcpy.env.pyramid = 'PYRAMIDS'\n",
    "arcpy.env.snapRaster = \"\" # We use a grid available in here: https://github.com/nmtarr/GAPProduction/tree/master/data\n",
    "arcpy.env.rasterStatistics = \"STATISTICS\"\n",
    "arcpy.env.cellSize = 30"
   ]
  },
  {
   "cell_type": "markdown",
   "metadata": {},
   "source": [
    "## Locations of data"
   ]
  },
  {
   "cell_type": "code",
   "execution_count": 4,
   "metadata": {
    "collapsed": true
   },
   "outputs": [],
   "source": [
    "workDir = \"T:/Temp/OpenSourceArcpy/\"\n",
    "dataDir = \"P:/Proj3/USGap/Vert/Model/Output/CONUS/TestExtents/\"\n",
    "tinyDir = dataDir + \"Tiny/\"\n",
    "mediumDir = dataDir + \"Medium/\"\n",
    "smallDir = dataDir + \"Small/\""
   ]
  },
  {
   "cell_type": "markdown",
   "metadata": {},
   "source": [
    "## Example 1 - The Reclassify tool"
   ]
  },
  {
   "cell_type": "code",
   "execution_count": 10,
   "metadata": {},
   "outputs": [],
   "source": [
    "raster = arcpy.Raster(tinyDir + \"bAMKEx.tif\")\n",
    "reclassified = arcpy.sa.Reclassify(in_raster=raster, reclass_field=\"VALUE\", remap=arcpy.sa.RemapValue([[1,10]]), \n",
    "                                   missing_values=\"DATA\")\n",
    "reclassified.save(workDir + \"reclassified.tif\")"
   ]
  },
  {
   "cell_type": "markdown",
   "metadata": {},
   "source": [
    "## Example 2 - The Con tool"
   ]
  },
  {
   "cell_type": "code",
   "execution_count": 12,
   "metadata": {},
   "outputs": [],
   "source": [
    "raster = arcpy.Raster(tinyDir + \"bAMKEx.tif\")\n",
    "conned1 = arcpy.sa.Con(in_conditional_raster=raster,\n",
    "                      in_true_raster_or_constant=10,\n",
    "                      where_clause=\"VALUE = 1\")\n",
    "conned1.save(workDir + \"conned1.tif\")"
   ]
  },
  {
   "cell_type": "markdown",
   "metadata": {},
   "source": [
    "Alternatively"
   ]
  },
  {
   "cell_type": "code",
   "execution_count": 13,
   "metadata": {
    "collapsed": true
   },
   "outputs": [],
   "source": [
    "conned2 = arcpy.sa.Con(raster == 1, raster)\n",
    "conned2.save(workDir + \"conned2.tif\")"
   ]
  },
  {
   "cell_type": "markdown",
   "metadata": {},
   "source": [
    "## Example 3 - Fill in nodata's with zeros"
   ]
  },
  {
   "cell_type": "code",
   "execution_count": 15,
   "metadata": {
    "collapsed": true
   },
   "outputs": [],
   "source": [
    "raster = arcpy.Raster(tinyDir + \"bAMKEx.tif\")\n",
    "con_null = arcpy.sa.Con(arcpy.sa.IsNull(raster), 0, raster)\n",
    "con_null.save(workDir + \"con_null.tif\")"
   ]
  }
 ],
 "metadata": {
  "kernelspec": {
   "display_name": "Python 2",
   "language": "python",
   "name": "python2"
  },
  "language_info": {
   "codemirror_mode": {
    "name": "ipython",
    "version": 2
   },
   "file_extension": ".py",
   "mimetype": "text/x-python",
   "name": "python",
   "nbconvert_exporter": "python",
   "pygments_lexer": "ipython2",
   "version": "2.7.13"
  }
 },
 "nbformat": 4,
 "nbformat_minor": 2
}
